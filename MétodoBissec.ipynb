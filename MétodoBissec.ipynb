{
  "cells": [
    {
      "cell_type": "markdown",
      "metadata": {
        "id": "view-in-github",
        "colab_type": "text"
      },
      "source": [
        "<a href=\"https://colab.research.google.com/github/Gustavo-S-G/MetodoBissec/blob/main/M%C3%A9todoBissec.ipynb\" target=\"_parent\"><img src=\"https://colab.research.google.com/assets/colab-badge.svg\" alt=\"Open In Colab\"/></a>"
      ]
    },
    {
      "cell_type": "code",
      "source": [
        "import matplotlib.pyplot as plt\n",
        "import numpy as np\n",
        "\n",
        "#input e declaração de var\n",
        "\n",
        "funStr = input(\"Digite a função: \\n\")\n",
        "epsStr = eval(input(\"Digite o Épsilon: \\n\"))\n",
        "ai = -50\n",
        "bi = 50\n",
        "expoente = np.exp\n",
        "logbase2 = np.log2\n",
        "logbase10 = np.log10\n",
        "c = 0\n",
        "lmt = 1000\n",
        "\n",
        "#Funções\n",
        "\n",
        "def raizes_no_intervalo(p: \"list[tuple[float, float]]\"):\n",
        "  resto = []\n",
        "  for i in range(1, len(p)):\n",
        "        x01, y01 = p[i-1]\n",
        "        x02, y02 = p[i]\n",
        "        r = y01 * y02\n",
        "        if r <= 0:\n",
        "            if r == 0 and len(resto) > 0 and resto[-1][1] == x01:\n",
        "                continue\n",
        "            resto.append((x01, x02))\n",
        "  return resto\n",
        "\n",
        "def enc_raiz(f: str, stop: float, a: float, b: float):\n",
        "    global c\n",
        "    x01 = a + ((b - a) / 2)\n",
        "\n",
        "    p = []\n",
        "    for x in (a, x01, b):\n",
        "        y = eval(f)\n",
        "\n",
        "        if y == 0:\n",
        "            return x, None\n",
        "\n",
        "        p.append((x, y))\n",
        "\n",
        "    if abs(x01 - a) < stop or c > lmt:\n",
        "        return x01, None\n",
        "\n",
        "    c += 1\n",
        "\n",
        "    resto = raizes_no_intervalo(p)\n",
        "    if len(resto) > 1:\n",
        "        raise ValueError(f'Existe mais de 1 raíz no intervalo [{a}, {b}].')\n",
        "    return resto[0]\n",
        "\n",
        "x = np.linspace(ai, bi, abs(ai) + abs(bi) + 1)\n",
        "y = eval(funStr)\n",
        "\n",
        "p_coord = list(map(lambda a, b: (a, b), x, y))\n",
        "\n",
        "intv = [*raizes_no_intervalo(p_coord)]\n",
        "\n",
        "raizes = []\n",
        "\n",
        "#Loop\n",
        "for i, intv2 in enumerate(intv):\n",
        "    a = intv2[0]\n",
        "    b = intv2[1]\n",
        "    c = 0\n",
        "    while True:\n",
        "        res = enc_raiz(funStr, epsStr, a, b)\n",
        "        if res[1] == None:\n",
        "            raizes.append(res[0])\n",
        "            break\n",
        "        a = res[0]\n",
        "        b = res[1]\n",
        "\n",
        "#Montagem gráfico\n",
        "plt.ylim(ai*2, bi*2)\n",
        "plt.xlim(ai, bi)\n",
        "plt.grid(True, which='both')\n",
        "plt.axhline(y=0, color='k', linewidth=1)\n",
        "plt.axvline(x=0, color='k', linewidth=1)\n",
        "plt.plot(x, eval(funStr), 'b')\n",
        "\n",
        "#Printar valor das raizes na tela e no grafico\n",
        "\n",
        "if raizes:\n",
        "  print('intervalos:', intv)\n",
        "  print('raízes: ')\n",
        "  for x in raizes:\n",
        "      print('x:', f'{x};'.rjust(22), \n",
        "            'y:', f'{eval(funStr)}'.rjust(22))\n",
        "      plt.plot(x,eval(funStr), 'mo')\n",
        "else:\n",
        "  print('Não possui raízes')"
      ],
      "metadata": {
        "colab": {
          "base_uri": "https://localhost:8080/",
          "height": 425
        },
        "id": "Cg33-0tevxY5",
        "outputId": "fa22309f-0877-44f0-c93a-f38dfbcd98d1"
      },
      "execution_count": null,
      "outputs": [
        {
          "output_type": "stream",
          "name": "stdout",
          "text": [
            "Digite a função: \n",
            "x**3-9*x+3\n",
            "Digite o Épsilon: \n",
            "10**-4\n",
            "intervalos: [(-4.0, -3.0), (0.0, 1.0), (2.0, 3.0)]\n",
            "raízes: \n",
            "x:     -3.15447998046875; y:   0.000897252074764765\n",
            "x:      0.33758544921875; y: 0.00020352339993223723\n",
            "x:      2.81695556640625; y:  0.0006146251455447782\n"
          ]
        },
        {
          "output_type": "display_data",
          "data": {
            "text/plain": [
              "<Figure size 432x288 with 1 Axes>"
            ],
            "image/png": "[encoded data removed]"
          },
          "metadata": {
            "needs_background": "light"
          }
        }
      ]
    }
  ],
  "metadata": {
    "colab": {
      "collapsed_sections": [],
      "name": "MétodoBissec.ipynb",
      "provenance": [],
      "include_colab_link": true
    },
    "kernelspec": {
      "display_name": "Python 3",
      "name": "python3"
    },
    "language_info": {
      "name": "python"
    }
  },
  "nbformat": 4,
  "nbformat_minor": 0
}